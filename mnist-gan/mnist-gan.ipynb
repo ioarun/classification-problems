{
 "cells": [
  {
   "cell_type": "markdown",
   "metadata": {},
   "source": [
    "# Generative Adversarial Networks (GANs)\n",
    "\n",
    "The idea behind GANs is that you have two networks, a generator $G$ and a discriminator $D$, competing against each other. The generator makes \"fake\" data to pass to the discriminator. The discriminator also sees real training data and predicts if the data it's received is real or fake. \n",
    "* The generator is trained to fool the discriminator, it wants to output data that looks _as close as possible_ to real, training data. \n",
    "* The discriminator is a classifier that is trained to figure out which data is real and which is fake. \n",
    "\n",
    "What ends up happening is that the generator learns to make data that is indistinguishable from real data to the discriminator."
   ]
  },
  {
   "cell_type": "code",
   "execution_count": 4,
   "metadata": {},
   "outputs": [],
   "source": [
    "%matplotlib inline\n",
    "\n",
    "import numpy as np\n",
    "import torch\n",
    "import matplotlib.pyplot as plt"
   ]
  },
  {
   "cell_type": "code",
   "execution_count": 5,
   "metadata": {},
   "outputs": [
    {
     "name": "stdout",
     "output_type": "stream",
     "text": [
      "Downloading http://yann.lecun.com/exdb/mnist/train-images-idx3-ubyte.gz to data/MNIST/raw/train-images-idx3-ubyte.gz\n"
     ]
    },
    {
     "data": {
      "application/vnd.jupyter.widget-view+json": {
       "model_id": "6ddd6f3110e4451497a84a7d75845e9f",
       "version_major": 2,
       "version_minor": 0
      },
      "text/plain": [
       "HBox(children=(IntProgress(value=1, bar_style='info', max=1), HTML(value='')))"
      ]
     },
     "metadata": {},
     "output_type": "display_data"
    },
    {
     "name": "stdout",
     "output_type": "stream",
     "text": [
      "Extracting data/MNIST/raw/train-images-idx3-ubyte.gz to data/MNIST/raw\n",
      "Downloading http://yann.lecun.com/exdb/mnist/train-labels-idx1-ubyte.gz to data/MNIST/raw/train-labels-idx1-ubyte.gz\n"
     ]
    },
    {
     "data": {
      "application/vnd.jupyter.widget-view+json": {
       "model_id": "caf18e0c766c491395fa45d1e90c6d3c",
       "version_major": 2,
       "version_minor": 0
      },
      "text/plain": [
       "HBox(children=(IntProgress(value=1, bar_style='info', max=1), HTML(value='')))"
      ]
     },
     "metadata": {},
     "output_type": "display_data"
    },
    {
     "name": "stdout",
     "output_type": "stream",
     "text": [
      "Extracting data/MNIST/raw/train-labels-idx1-ubyte.gz to data/MNIST/raw\n",
      "Downloading http://yann.lecun.com/exdb/mnist/t10k-images-idx3-ubyte.gz to data/MNIST/raw/t10k-images-idx3-ubyte.gz\n"
     ]
    },
    {
     "data": {
      "application/vnd.jupyter.widget-view+json": {
       "model_id": "affa7779bd124d2bb8dc9ebb7117a1d1",
       "version_major": 2,
       "version_minor": 0
      },
      "text/plain": [
       "HBox(children=(IntProgress(value=1, bar_style='info', max=1), HTML(value='')))"
      ]
     },
     "metadata": {},
     "output_type": "display_data"
    },
    {
     "name": "stdout",
     "output_type": "stream",
     "text": [
      "Extracting data/MNIST/raw/t10k-images-idx3-ubyte.gz to data/MNIST/raw\n",
      "Downloading http://yann.lecun.com/exdb/mnist/t10k-labels-idx1-ubyte.gz to data/MNIST/raw/t10k-labels-idx1-ubyte.gz\n"
     ]
    },
    {
     "data": {
      "application/vnd.jupyter.widget-view+json": {
       "model_id": "474ed4dc807143a2935863e311de8c47",
       "version_major": 2,
       "version_minor": 0
      },
      "text/plain": [
       "HBox(children=(IntProgress(value=1, bar_style='info', max=1), HTML(value='')))"
      ]
     },
     "metadata": {},
     "output_type": "display_data"
    },
    {
     "name": "stdout",
     "output_type": "stream",
     "text": [
      "Extracting data/MNIST/raw/t10k-labels-idx1-ubyte.gz to data/MNIST/raw\n",
      "Processing...\n",
      "Done!\n"
     ]
    }
   ],
   "source": [
    "from torchvision import datasets\n",
    "import torchvision.transforms as transforms\n",
    "\n",
    "# number of subprocesses to use for data loading\n",
    "num_workers = 0\n",
    "# how many samples per batch to load\n",
    "batch_size = 64\n",
    "\n",
    "# convert data to torch.FloatTensor\n",
    "transform = transforms.ToTensor()\n",
    "\n",
    "# get the training datasets\n",
    "train_data = datasets.MNIST(root='data', train=True,\n",
    "                                   download=True, transform=transform)\n",
    "\n",
    "# prepare data loader\n",
    "train_loader = torch.utils.data.DataLoader(train_data, batch_size=batch_size,\n",
    "                                           num_workers=num_workers)"
   ]
  },
  {
   "cell_type": "markdown",
   "metadata": {},
   "source": [
    "# Visualize the Data"
   ]
  },
  {
   "cell_type": "code",
   "execution_count": 17,
   "metadata": {},
   "outputs": [
    {
     "data": {
      "text/plain": [
       "<matplotlib.image.AxesImage at 0x7f445048b2b0>"
      ]
     },
     "execution_count": 17,
     "metadata": {},
     "output_type": "execute_result"
    },
    {
     "data": {
      "image/png": "[encoded data removed]",
      "text/plain": [
       "<Figure size 216x216 with 1 Axes>"
      ]
     },
     "metadata": {
      "needs_background": "light"
     },
     "output_type": "display_data"
    }
   ],
   "source": [
    "# obtain one batch of training images\n",
    "dataiter = iter(train_loader)\n",
    "images, labels = dataiter.next()\n",
    "images = images.numpy()\n",
    "\n",
    "# get one image from the batch\n",
    "img = np.squeeze(images[0])\n",
    "\n",
    "fig = plt.figure(figsize = (3,3)) \n",
    "ax = fig.add_subplot(111)\n",
    "ax.imshow(img, cmap='gray')"
   ]
  },
  {
   "cell_type": "markdown",
   "metadata": {},
   "source": [
    "# Discriminator (D)"
   ]
  },
  {
   "cell_type": "code",
   "execution_count": 18,
   "metadata": {},
   "outputs": [],
   "source": [
    "import torch.nn as nn\n",
    "import torch.nn.functional as F\n",
    "\n",
    "class Discriminator(nn.Module):\n",
    "\n",
    "    def __init__(self, input_size, hidden_dim, output_size):\n",
    "        super(Discriminator, self).__init__()\n",
    "        \n",
    "        # define all layers\n",
    "        self.fc1 = nn.Linear(input_size, hidden_dim*4)\n",
    "        self.fc2 = nn.Linear(hidden_dim*4, hidden_dim*2)\n",
    "        self.fc3 = nn.Linear(hidden_dim*2, output_size)\n",
    "        \n",
    "    def forward(self, x):\n",
    "        # flatten image\n",
    "        x = x.view(-1, 784)\n",
    "        # pass x through all layers\n",
    "        # apply leaky relu activation to all hidden layers\n",
    "        x = F.leaky_relu(self.fc1(x))\n",
    "        x = F.leaky_relu(self.fc2(x))\n",
    "        x = self.fc3(x)\n",
    "        return x"
   ]
  },
  {
   "cell_type": "markdown",
   "metadata": {},
   "source": [
    "# Generator (G)\n",
    "\n"
   ]
  },
  {
   "cell_type": "code",
   "execution_count": 19,
   "metadata": {},
   "outputs": [],
   "source": [
    "class Generator(nn.Module):\n",
    "\n",
    "    def __init__(self, input_size, hidden_dim, output_size):\n",
    "        super(Generator, self).__init__()\n",
    "        \n",
    "        # define all layers\n",
    "        self.fc1 = nn.Linear(input_size, hidden_dim*2)\n",
    "        self.fc2 = nn.Linear(hidden_dim*2, hidden_dim*4)\n",
    "        self.fc3 = nn.Linear(hidden_dim*4, output_size)\n",
    "        \n",
    "\n",
    "    def forward(self, x):\n",
    "        # pass x through all layers\n",
    "        x = F.leaky_relu(self.fc1(x))\n",
    "        x = F.leaky_relu(self.fc2(x))\n",
    "        # final layer should have tanh applied\n",
    "        x = F.tanh(self.fc3(x))\n",
    "        return x"
   ]
  },
  {
   "cell_type": "markdown",
   "metadata": {},
   "source": [
    "# Hyperparameters"
   ]
  },
  {
   "cell_type": "code",
   "execution_count": 20,
   "metadata": {},
   "outputs": [],
   "source": [
    "# Discriminator hyperparams\n",
    "\n",
    "# Size of input image to discriminator (28*28)\n",
    "input_size = 28*28\n",
    "# Size of discriminator output (real or fake)\n",
    "d_output_size = 1\n",
    "# Size of *last* hidden layer in the discriminator\n",
    "d_hidden_size = 32\n",
    "\n",
    "# Generator hyperparams\n",
    "\n",
    "# Size of latent vector to give to generator\n",
    "z_size = 100\n",
    "# Size of discriminator output (generated image)\n",
    "g_output_size = 28*28\n",
    "# Size of *first* hidden layer in the generator\n",
    "g_hidden_size = 32"
   ]
  },
  {
   "cell_type": "code",
   "execution_count": 21,
   "metadata": {},
   "outputs": [
    {
     "name": "stdout",
     "output_type": "stream",
     "text": [
      "Discriminator(\n",
      "  (fc1): Linear(in_features=784, out_features=128, bias=True)\n",
      "  (fc2): Linear(in_features=128, out_features=64, bias=True)\n",
      "  (fc3): Linear(in_features=64, out_features=1, bias=True)\n",
      ")\n",
      "\n",
      "Generator(\n",
      "  (fc1): Linear(in_features=100, out_features=64, bias=True)\n",
      "  (fc2): Linear(in_features=64, out_features=128, bias=True)\n",
      "  (fc3): Linear(in_features=128, out_features=784, bias=True)\n",
      ")\n"
     ]
    }
   ],
   "source": [
    "# instantiate discriminator and generator\n",
    "D = Discriminator(input_size, d_hidden_size, d_output_size)\n",
    "G = Generator(z_size, g_hidden_size, g_output_size)\n",
    "\n",
    "# check that they are as you expect\n",
    "print(D)\n",
    "print()\n",
    "print(G)"
   ]
  },
  {
   "cell_type": "markdown",
   "metadata": {},
   "source": [
    "# Discriminator and Generator Losses\n",
    "\n",
    "> * For the discriminator, the total loss is the sum of the losses for real and fake images, `d_loss = d_real_loss + d_fake_loss`. \n",
    "\n",
    "> * The generator loss will look similar only with flipped labels. The generator's goal is to get `D(fake_images) = 1`. In this case, the labels are **flipped** to represent that the generator is trying to fool the discriminator into thinking that the images it generates (fakes) are real!"
   ]
  },
  {
   "cell_type": "code",
   "execution_count": 22,
   "metadata": {},
   "outputs": [],
   "source": [
    "# Calculate losses\n",
    "def real_loss(D_out, smooth=False):\n",
    "    # compare logits to real labels\n",
    "    # smooth labels if smooth=True\n",
    "    batch_size = D_out.shape[0]\n",
    "    if smooth:\n",
    "        labels = torch.ones(batch_size) * 0.9\n",
    "    else:\n",
    "        labels = torch.ones(batch_size)\n",
    "    criterion = nn.BCEWithLogitsLoss()\n",
    "    loss = criterion(D_out.squeeze(), labels)\n",
    "    return loss\n",
    "\n",
    "def fake_loss(D_out):\n",
    "    # compare logits to fake labels\n",
    "    batch_size = D_out.shape[0]\n",
    "    labels = torch.zeros(batch_size)\n",
    "    criterion = nn.BCEWithLogitsLoss()\n",
    "    loss = criterion(D_out.squeeze(), labels)\n",
    "    return loss"
   ]
  },
  {
   "cell_type": "markdown",
   "metadata": {},
   "source": [
    "# Optimizers"
   ]
  },
  {
   "cell_type": "code",
   "execution_count": 23,
   "metadata": {},
   "outputs": [],
   "source": [
    "import torch.optim as optim\n",
    "\n",
    "# learning rate for optimizers\n",
    "lr = 0.002\n",
    "\n",
    "# Create optimizers for the discriminator and generator\n",
    "d_optimizer = optim.Adam(D.parameters(), lr=lr)\n",
    "g_optimizer = optim.Adam(G.parameters(), lr=lr)"
   ]
  },
  {
   "cell_type": "markdown",
   "metadata": {},
   "source": [
    "---\n",
    "# Training\n",
    "\n",
    "Training will involve alternating between training the discriminator and the generator. We'll use our functions `real_loss` and `fake_loss` to help us calculate the discriminator losses in all of the following cases.\n",
    "\n",
    "### Discriminator training\n",
    "1. Compute the discriminator loss on real, training images        \n",
    "2. Generate fake images\n",
    "3. Compute the discriminator loss on fake, generated images     \n",
    "4. Add up real and fake loss\n",
    "5. Perform backpropagation + an optimization step to update the discriminator's weights\n",
    "\n",
    "### Generator training\n",
    "1. Generate fake images\n",
    "2. Compute the discriminator loss on fake images, using **flipped** labels!\n",
    "3. Perform backpropagation + an optimization step to update the generator's weights\n",
    "\n",
    "#### Saving Samples\n",
    "\n",
    "As we train, we'll also print out some loss statistics and save some generated \"fake\" samples."
   ]
  },
  {
   "cell_type": "code",
   "execution_count": 24,
   "metadata": {},
   "outputs": [
    {
     "name": "stdout",
     "output_type": "stream",
     "text": [
      "Epoch [    1/   40] | d_loss: 1.3525 | g_loss: 0.7599\n",
      "Epoch [    1/   40] | d_loss: 10.0462 | g_loss: 0.6110\n",
      "Epoch [    1/   40] | d_loss: 1.8892 | g_loss: 0.5256\n",
      "Epoch [    2/   40] | d_loss: 0.7782 | g_loss: 1.3627\n",
      "Epoch [    2/   40] | d_loss: 1.3986 | g_loss: 0.7347\n",
      "Epoch [    2/   40] | d_loss: 0.0623 | g_loss: 5.7711\n",
      "Epoch [    3/   40] | d_loss: 0.0310 | g_loss: 17.7921\n",
      "Epoch [    3/   40] | d_loss: 0.1266 | g_loss: 15.7190\n",
      "Epoch [    3/   40] | d_loss: 0.2254 | g_loss: 13.8325\n",
      "Epoch [    4/   40] | d_loss: 0.5273 | g_loss: 12.4419\n",
      "Epoch [    4/   40] | d_loss: 2.7110 | g_loss: 0.7216\n",
      "Epoch [    4/   40] | d_loss: 5.8626 | g_loss: 14.3020\n",
      "Epoch [    5/   40] | d_loss: 0.1344 | g_loss: 6.6598\n",
      "Epoch [    5/   40] | d_loss: 2.4978 | g_loss: 3.2505\n",
      "Epoch [    5/   40] | d_loss: 1.6012 | g_loss: 11.8132\n",
      "Epoch [    6/   40] | d_loss: 4.8198 | g_loss: 7.5017\n",
      "Epoch [    6/   40] | d_loss: 0.2912 | g_loss: 20.9612\n",
      "Epoch [    6/   40] | d_loss: 1.1160 | g_loss: 4.9558\n",
      "Epoch [    7/   40] | d_loss: 2.1437 | g_loss: 7.2728\n",
      "Epoch [    7/   40] | d_loss: 1.0006 | g_loss: 2.1122\n",
      "Epoch [    7/   40] | d_loss: 0.2654 | g_loss: 6.2189\n",
      "Epoch [    8/   40] | d_loss: 0.8884 | g_loss: 4.4932\n",
      "Epoch [    8/   40] | d_loss: 0.5122 | g_loss: 5.4627\n",
      "Epoch [    8/   40] | d_loss: 2.6410 | g_loss: 4.2903\n",
      "Epoch [    9/   40] | d_loss: 0.7637 | g_loss: 1.9423\n",
      "Epoch [    9/   40] | d_loss: 0.8435 | g_loss: 8.2809\n",
      "Epoch [    9/   40] | d_loss: 1.6139 | g_loss: 8.8383\n",
      "Epoch [   10/   40] | d_loss: 1.4370 | g_loss: 2.2286\n",
      "Epoch [   10/   40] | d_loss: 1.3984 | g_loss: 4.4930\n",
      "Epoch [   10/   40] | d_loss: 0.7477 | g_loss: 2.3978\n",
      "Epoch [   11/   40] | d_loss: 3.0828 | g_loss: 4.0567\n",
      "Epoch [   11/   40] | d_loss: 0.7792 | g_loss: 4.0970\n",
      "Epoch [   11/   40] | d_loss: 0.2668 | g_loss: 3.4384\n",
      "Epoch [   12/   40] | d_loss: 0.7826 | g_loss: 2.9226\n",
      "Epoch [   12/   40] | d_loss: 0.5139 | g_loss: 2.5476\n",
      "Epoch [   12/   40] | d_loss: 0.4152 | g_loss: 3.1889\n",
      "Epoch [   13/   40] | d_loss: 0.6679 | g_loss: 2.1573\n",
      "Epoch [   13/   40] | d_loss: 0.4987 | g_loss: 4.2070\n",
      "Epoch [   13/   40] | d_loss: 0.4455 | g_loss: 4.1604\n",
      "Epoch [   14/   40] | d_loss: 0.9639 | g_loss: 2.2191\n",
      "Epoch [   14/   40] | d_loss: 0.3773 | g_loss: 3.3380\n",
      "Epoch [   14/   40] | d_loss: 0.3730 | g_loss: 3.3714\n",
      "Epoch [   15/   40] | d_loss: 0.7470 | g_loss: 2.6676\n",
      "Epoch [   15/   40] | d_loss: 0.4274 | g_loss: 4.2303\n",
      "Epoch [   15/   40] | d_loss: 0.4733 | g_loss: 5.3004\n",
      "Epoch [   16/   40] | d_loss: 0.6026 | g_loss: 2.0933\n",
      "Epoch [   16/   40] | d_loss: 0.2529 | g_loss: 4.3021\n",
      "Epoch [   16/   40] | d_loss: 0.3617 | g_loss: 4.4795\n",
      "Epoch [   17/   40] | d_loss: 0.6554 | g_loss: 1.7417\n",
      "Epoch [   17/   40] | d_loss: 0.4923 | g_loss: 1.9697\n",
      "Epoch [   17/   40] | d_loss: 0.4570 | g_loss: 3.0347\n",
      "Epoch [   18/   40] | d_loss: 0.5692 | g_loss: 2.7584\n",
      "Epoch [   18/   40] | d_loss: 0.5169 | g_loss: 3.1621\n",
      "Epoch [   18/   40] | d_loss: 0.5676 | g_loss: 2.8558\n",
      "Epoch [   19/   40] | d_loss: 0.4464 | g_loss: 2.5500\n",
      "Epoch [   19/   40] | d_loss: 0.6849 | g_loss: 2.0719\n",
      "Epoch [   19/   40] | d_loss: 0.5300 | g_loss: 2.5985\n",
      "Epoch [   20/   40] | d_loss: 0.9493 | g_loss: 1.8969\n",
      "Epoch [   20/   40] | d_loss: 0.4087 | g_loss: 3.1903\n",
      "Epoch [   20/   40] | d_loss: 0.4066 | g_loss: 2.2385\n",
      "Epoch [   21/   40] | d_loss: 1.0215 | g_loss: 3.5163\n",
      "Epoch [   21/   40] | d_loss: 0.3592 | g_loss: 3.3103\n",
      "Epoch [   21/   40] | d_loss: 0.5546 | g_loss: 3.0462\n",
      "Epoch [   22/   40] | d_loss: 0.7505 | g_loss: 3.4261\n",
      "Epoch [   22/   40] | d_loss: 0.5109 | g_loss: 2.5625\n",
      "Epoch [   22/   40] | d_loss: 0.7413 | g_loss: 2.1878\n",
      "Epoch [   23/   40] | d_loss: 0.8763 | g_loss: 2.8096\n",
      "Epoch [   23/   40] | d_loss: 0.5713 | g_loss: 2.1863\n",
      "Epoch [   23/   40] | d_loss: 0.5644 | g_loss: 2.5952\n",
      "Epoch [   24/   40] | d_loss: 0.9989 | g_loss: 2.8326\n",
      "Epoch [   24/   40] | d_loss: 0.7461 | g_loss: 2.0592\n",
      "Epoch [   24/   40] | d_loss: 0.7429 | g_loss: 2.2087\n",
      "Epoch [   25/   40] | d_loss: 0.8953 | g_loss: 3.9601\n",
      "Epoch [   25/   40] | d_loss: 0.7350 | g_loss: 2.5243\n",
      "Epoch [   25/   40] | d_loss: 0.9703 | g_loss: 1.6772\n",
      "Epoch [   26/   40] | d_loss: 0.7896 | g_loss: 1.5816\n",
      "Epoch [   26/   40] | d_loss: 0.9021 | g_loss: 2.0936\n",
      "Epoch [   26/   40] | d_loss: 0.7706 | g_loss: 1.4412\n",
      "Epoch [   27/   40] | d_loss: 0.6509 | g_loss: 1.8825\n",
      "Epoch [   27/   40] | d_loss: 0.9115 | g_loss: 1.8754\n",
      "Epoch [   27/   40] | d_loss: 0.6925 | g_loss: 2.7002\n",
      "Epoch [   28/   40] | d_loss: 0.7643 | g_loss: 2.0087\n",
      "Epoch [   28/   40] | d_loss: 0.7029 | g_loss: 2.3192\n",
      "Epoch [   28/   40] | d_loss: 0.8705 | g_loss: 2.1016\n",
      "Epoch [   29/   40] | d_loss: 0.7156 | g_loss: 1.4928\n",
      "Epoch [   29/   40] | d_loss: 0.6632 | g_loss: 2.0525\n",
      "Epoch [   29/   40] | d_loss: 1.0015 | g_loss: 2.1472\n",
      "Epoch [   30/   40] | d_loss: 0.8972 | g_loss: 2.0075\n",
      "Epoch [   30/   40] | d_loss: 0.8725 | g_loss: 1.6456\n",
      "Epoch [   30/   40] | d_loss: 1.0948 | g_loss: 1.6538\n",
      "Epoch [   31/   40] | d_loss: 0.7742 | g_loss: 1.8860\n",
      "Epoch [   31/   40] | d_loss: 0.8430 | g_loss: 2.0024\n",
      "Epoch [   31/   40] | d_loss: 1.3375 | g_loss: 2.2125\n",
      "Epoch [   32/   40] | d_loss: 1.0653 | g_loss: 1.9380\n",
      "Epoch [   32/   40] | d_loss: 0.8880 | g_loss: 2.1024\n",
      "Epoch [   32/   40] | d_loss: 0.8643 | g_loss: 1.6243\n",
      "Epoch [   33/   40] | d_loss: 0.9983 | g_loss: 2.4561\n",
      "Epoch [   33/   40] | d_loss: 0.9063 | g_loss: 1.8521\n",
      "Epoch [   33/   40] | d_loss: 0.9984 | g_loss: 1.6900\n",
      "Epoch [   34/   40] | d_loss: 0.8619 | g_loss: 2.0234\n",
      "Epoch [   34/   40] | d_loss: 0.7800 | g_loss: 1.5345\n",
      "Epoch [   34/   40] | d_loss: 1.2889 | g_loss: 1.3757\n",
      "Epoch [   35/   40] | d_loss: 1.0806 | g_loss: 1.7254\n",
      "Epoch [   35/   40] | d_loss: 0.9523 | g_loss: 1.6100\n",
      "Epoch [   35/   40] | d_loss: 1.0553 | g_loss: 1.7782\n",
      "Epoch [   36/   40] | d_loss: 1.1675 | g_loss: 1.6565\n",
      "Epoch [   36/   40] | d_loss: 1.0010 | g_loss: 1.2582\n",
      "Epoch [   36/   40] | d_loss: 1.1061 | g_loss: 1.6343\n",
      "Epoch [   37/   40] | d_loss: 1.1257 | g_loss: 1.9411\n",
      "Epoch [   37/   40] | d_loss: 1.1208 | g_loss: 1.4517\n",
      "Epoch [   37/   40] | d_loss: 1.1727 | g_loss: 1.4111\n",
      "Epoch [   38/   40] | d_loss: 1.0426 | g_loss: 1.5528\n",
      "Epoch [   38/   40] | d_loss: 0.8542 | g_loss: 1.8854\n",
      "Epoch [   38/   40] | d_loss: 0.9115 | g_loss: 1.5233\n",
      "Epoch [   39/   40] | d_loss: 0.9638 | g_loss: 1.6503\n",
      "Epoch [   39/   40] | d_loss: 1.0390 | g_loss: 1.5229\n",
      "Epoch [   39/   40] | d_loss: 0.8711 | g_loss: 2.0776\n",
      "Epoch [   40/   40] | d_loss: 1.1807 | g_loss: 1.1030\n",
      "Epoch [   40/   40] | d_loss: 0.7527 | g_loss: 1.5144\n",
      "Epoch [   40/   40] | d_loss: 0.9984 | g_loss: 1.5697\n"
     ]
    }
   ],
   "source": [
    "import pickle as pkl\n",
    "\n",
    "# training hyperparams\n",
    "num_epochs = 40\n",
    "\n",
    "# keep track of loss and generated, \"fake\" samples\n",
    "samples = []\n",
    "losses = []\n",
    "\n",
    "print_every = 400\n",
    "\n",
    "# Get some fixed data for sampling. These are images that are held\n",
    "# constant throughout training, and allow us to inspect the model's performance\n",
    "sample_size=16\n",
    "fixed_z = np.random.uniform(-1, 1, size=(sample_size, z_size))\n",
    "fixed_z = torch.from_numpy(fixed_z).float()\n",
    "\n",
    "# train the network\n",
    "D.train()\n",
    "G.train()\n",
    "for epoch in range(num_epochs):\n",
    "    \n",
    "    for batch_i, (real_images, _) in enumerate(train_loader):\n",
    "                \n",
    "        batch_size = real_images.size(0)\n",
    "        \n",
    "        ## Important rescaling step ## \n",
    "        real_images = real_images*2 - 1  # rescale input images from [0,1) to [-1, 1)\n",
    "        \n",
    "        # ============================================\n",
    "        #            TRAIN THE DISCRIMINATOR\n",
    "        # ============================================\n",
    "        d_optimizer.zero_grad()\n",
    "        # 1. Train with real images\n",
    "        d_out = D(real_images)\n",
    "\n",
    "        # Compute the discriminator losses on real images\n",
    "        # use smoothed labels\n",
    "        d_real_loss = real_loss(d_out)\n",
    "        \n",
    "        # 2. Train with fake images\n",
    "        \n",
    "        # Generate fake images\n",
    "        z = np.random.uniform(-1, 1, size=(batch_size, z_size))\n",
    "        z = torch.from_numpy(z).float()\n",
    "        fake_images = G(z)\n",
    "        \n",
    "        # Compute the discriminator losses on fake images\n",
    "        d_out = D(fake_images)\n",
    "        d_fake_loss = fake_loss(d_out)\n",
    "        \n",
    "        # add up real and fake losses and perform backprop\n",
    "        d_loss = d_real_loss + d_fake_loss\n",
    "        d_loss.backward()\n",
    "        d_optimizer.step()\n",
    "        # =========================================\n",
    "        #            TRAIN THE GENERATOR\n",
    "        # =========================================\n",
    "        g_optimizer.zero_grad()\n",
    "        \n",
    "        # 1. Train with fake images and flipped labels\n",
    "        \n",
    "        # Generate fake images\n",
    "        z = np.random.uniform(-1, 1, size=(batch_size, z_size))\n",
    "        z = torch.from_numpy(z).float()\n",
    "        fake_images = G(z)\n",
    "        \n",
    "        # Compute the discriminator losses on fake images \n",
    "        # using flipped labels!\n",
    "        d_out = D(fake_images)\n",
    "        \n",
    "        # perform backprop\n",
    "        g_loss = real_loss(d_out)\n",
    "        g_loss.backward()\n",
    "        g_optimizer.step()\n",
    "        \n",
    "\n",
    "        # Print some loss stats\n",
    "        if batch_i % print_every == 0:\n",
    "            # print discriminator and generator loss\n",
    "            print('Epoch [{:5d}/{:5d}] | d_loss: {:6.4f} | g_loss: {:6.4f}'.format(\n",
    "                    epoch+1, num_epochs, d_loss.item(), g_loss.item()))\n",
    "\n",
    "    \n",
    "    ## AFTER EACH EPOCH##\n",
    "    # append discriminator loss and generator loss\n",
    "    losses.append((d_loss.item(), g_loss.item()))\n",
    "    \n",
    "    # generate and save sample, fake images\n",
    "    G.eval() # eval mode for generating samples\n",
    "    samples_z = G(fixed_z)\n",
    "    samples.append(samples_z)\n",
    "    G.train() # back to train mode\n",
    "d_fake_loss = real_loss\n",
    "\n",
    "# Save training generator samples\n",
    "with open('train_samples.pkl', 'wb') as f:\n",
    "    pkl.dump(samples, f)"
   ]
  },
  {
   "cell_type": "markdown",
   "metadata": {},
   "source": [
    "# Training Loss\n"
   ]
  },
  {
   "cell_type": "code",
   "execution_count": 25,
   "metadata": {},
   "outputs": [
    {
     "data": {
      "text/plain": [
       "<matplotlib.legend.Legend at 0x7f445045a198>"
      ]
     },
     "execution_count": 25,
     "metadata": {},
     "output_type": "execute_result"
    },
    {
     "data": {
      "image/png": "[encoded data removed]",
      "text/plain": [
       "<Figure size 432x288 with 1 Axes>"
      ]
     },
     "metadata": {
      "needs_background": "light"
     },
     "output_type": "display_data"
    }
   ],
   "source": [
    "fig, ax = plt.subplots()\n",
    "losses = np.array(losses)\n",
    "plt.plot(losses.T[0], label='Discriminator')\n",
    "plt.plot(losses.T[1], label='Generator')\n",
    "plt.title(\"Training Losses\")\n",
    "plt.legend()"
   ]
  },
  {
   "cell_type": "markdown",
   "metadata": {},
   "source": [
    "# Generate Samples from Training\n"
   ]
  },
  {
   "cell_type": "code",
   "execution_count": 26,
   "metadata": {},
   "outputs": [],
   "source": [
    "# helper function for viewing a list of passed in sample images\n",
    "def view_samples(epoch, samples):\n",
    "    fig, axes = plt.subplots(figsize=(7,7), nrows=4, ncols=4, sharey=True, sharex=True)\n",
    "    for ax, img in zip(axes.flatten(), samples[epoch]):\n",
    "        img = img.detach()\n",
    "        ax.xaxis.set_visible(False)\n",
    "        ax.yaxis.set_visible(False)\n",
    "        im = ax.imshow(img.reshape((28,28)), cmap='Greys_r')"
   ]
  },
  {
   "cell_type": "code",
   "execution_count": 28,
   "metadata": {},
   "outputs": [
    {
     "data": {
      "image/png": "[encoded data removed]",
      "text/plain": [
       "<Figure size 504x504 with 16 Axes>"
      ]
     },
     "metadata": {
      "needs_background": "light"
     },
     "output_type": "display_data"
    }
   ],
   "source": [
    "# Load samples from generator, taken while training\n",
    "with open('train_samples.pkl', 'rb') as f:\n",
    "    samples = pkl.load(f)\n",
    "# -1 indicates final epoch's samples (the last in the list)\n",
    "view_samples(-1, samples)"
   ]
  },
  {
   "cell_type": "markdown",
   "metadata": {},
   "source": [
    "# Sample new images from Generator"
   ]
  },
  {
   "cell_type": "code",
   "execution_count": 29,
   "metadata": {},
   "outputs": [
    {
     "data": {
      "image/png": "[encoded data removed]",
      "text/plain": [
       "<Figure size 504x504 with 16 Axes>"
      ]
     },
     "metadata": {
      "needs_background": "light"
     },
     "output_type": "display_data"
    }
   ],
   "source": [
    "# randomly generated, new latent vectors\n",
    "sample_size=16\n",
    "rand_z = np.random.uniform(-1, 1, size=(sample_size, z_size))\n",
    "rand_z = torch.from_numpy(rand_z).float()\n",
    "\n",
    "G.eval() # eval mode\n",
    "# generated samples\n",
    "rand_images = G(rand_z)\n",
    "\n",
    "# 0 indicates the first set of samples in the passed in list\n",
    "# and we only have one batch of samples, here\n",
    "view_samples(0, [rand_images])"
   ]
  },
  {
   "cell_type": "code",
   "execution_count": null,
   "metadata": {},
   "outputs": [],
   "source": []
  }
 ],
 "metadata": {
  "kernelspec": {
   "display_name": "Python 3",
   "language": "python",
   "name": "python3"
  },
  "language_info": {
   "codemirror_mode": {
    "name": "ipython",
    "version": 3
   },
   "file_extension": ".py",
   "mimetype": "text/x-python",
   "name": "python",
   "nbconvert_exporter": "python",
   "pygments_lexer": "ipython3",
   "version": "3.6.9"
  }
 },
 "nbformat": 4,
 "nbformat_minor": 4
}
